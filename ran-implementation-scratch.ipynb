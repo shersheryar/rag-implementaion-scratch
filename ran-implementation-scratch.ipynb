{
 "cells": [
  {
   "cell_type": "markdown",
   "id": "8271be05",
   "metadata": {},
   "source": [
    "# ==============Rag from scratch=============="
   ]
  },
  {
   "cell_type": "code",
   "execution_count": null,
   "id": "e00c8074",
   "metadata": {},
   "outputs": [],
   "source": []
  },
  {
   "cell_type": "code",
   "execution_count": 2,
   "id": "03e8e118",
   "metadata": {},
   "outputs": [],
   "source": [
    "corpus_of_documents = [\n",
    "    \"Take a leisurely walk in the park and enjoy the fresh air.\",\n",
    "    \"Visit a local museum and discover something new.\",\n",
    "    \"Attend a live music concert and feel the rhythm.\",\n",
    "    \"Go for a hike and admire the natural scenery.\",\n",
    "    \"Have a picnic with friends and share some laughs.\",\n",
    "    \"Explore a new cuisine by dining at an ethnic restaurant.\",\n",
    "    \"Take a yoga class and stretch your body and mind.\",\n",
    "    \"Join a local sports league and enjoy some friendly competition.\",\n",
    "    \"Attend a workshop or lecture on a topic you're interested in.\",\n",
    "    \"Visit an amusement park and ride the roller coasters.\"\n",
    "]\n"
   ]
  },
  {
   "cell_type": "code",
   "execution_count": 1,
   "id": "6d039a99",
   "metadata": {},
   "outputs": [],
   "source": [
    "user_query = \"i am pakistani and i live in pakistan\"\n",
    "document = \"pakistan is a country for the pakistanis and for everyone\""
   ]
  },
  {
   "cell_type": "code",
   "execution_count": 6,
   "id": "c8f9c989",
   "metadata": {},
   "outputs": [],
   "source": [
    "from collections import Counter\n",
    "import math"
   ]
  },
  {
   "cell_type": "code",
   "execution_count": null,
   "id": "7f70f2d2",
   "metadata": {},
   "outputs": [],
   "source": [
    "def cosine_simliarity(query, document):\n",
    "    # tokenize and convert to lowercase\n",
    "    query_tokens = query.lower().split(\" \")\n",
    "    document_tokens = document.lower().split(\" \")\n",
    "    \n",
    "    print(query_tokens, document_tokens)\n",
    "    \n",
    "    # create counters for query and document\n",
    "    query_counter = Counter(query_tokens)\n",
    "    document_counter = Counter(document_tokens)\n",
    "    \n",
    "    \n",
    "    \n",
    "    #     # find word level similarity  BY FINDING DOT PRODUCT\n",
    "    # my_list = []\n",
    "    # for token in query_counter.keys() & document_counter.keys():\n",
    "    #     my_list.append(query_counter[token]*document_counter[token])\n",
    "\n",
    "    # dot_product = sum(my_list)\n",
    "    \n",
    "    \n",
    "    # calculate dot product\n",
    "    dot_product = sum(query_counter[token] * document_counter[token] for token in query_counter.keys() & document_counter.keys())\n",
    "\n",
    "    # calculate magnitudes\n",
    "    query_magnitude =  math.sqrt(sum(query_counter[token]**2 for token in query_counter.keys()))\n",
    "    document_magnitude =  math.sqrt(sum(document_counter[token]**2 for token in document_counter.keys()))\n",
    "    \n",
    "    # calculate the similarity\n",
    "    similarity = (dot_product) / (query_magnitude * document_magnitude)\n",
    "    \n",
    "    return similarity\n",
    "    \n",
    "    "
   ]
  },
  {
   "cell_type": "code",
   "execution_count": 48,
   "id": "d489f45c",
   "metadata": {},
   "outputs": [
    {
     "name": "stdout",
     "output_type": "stream",
     "text": [
      "None\n"
     ]
    }
   ],
   "source": [
    "print(cosine_simliarity(user_query, document))"
   ]
  },
  {
   "cell_type": "code",
   "execution_count": null,
   "id": "cb7a57f3",
   "metadata": {},
   "outputs": [],
   "source": []
  }
 ],
 "metadata": {
  "kernelspec": {
   "display_name": ".venv (3.12.3)",
   "language": "python",
   "name": "python3"
  },
  "language_info": {
   "codemirror_mode": {
    "name": "ipython",
    "version": 3
   },
   "file_extension": ".py",
   "mimetype": "text/x-python",
   "name": "python",
   "nbconvert_exporter": "python",
   "pygments_lexer": "ipython3",
   "version": "3.12.3"
  }
 },
 "nbformat": 4,
 "nbformat_minor": 5
}
