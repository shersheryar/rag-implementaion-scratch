{
 "cells": [
  {
   "cell_type": "markdown",
   "id": "8271be05",
   "metadata": {},
   "source": [
    "# ==============Rag from scratch=============="
   ]
  },
  {
   "cell_type": "code",
   "execution_count": 46,
   "id": "03e8e118",
   "metadata": {},
   "outputs": [],
   "source": [
    "corpus_of_documents = [\n",
    "    \"Visit a local museum and discover something new.\",\n",
    "    \"Attend a live music concert and feel the rhythm.\",\n",
    "    \"Go for a hike and admire the natural scenery.\",\n",
    "    \"Have a picnic with friends and share some laughs.\",\n",
    "    \"Explore a new cuisine by dining at an ethnic restaurant.\",\n",
    "    \"Take a yoga class and stretch your body and mind.\",\n",
    "    \"Join a local sports league and enjoy some friendly competition.\",\n",
    "    \"Attend a workshop or lecture on a topic you're interested in.\",\n",
    "    \"Visit an amusement park and ride the roller coasters.\",\n",
    "    \"Take a leisurely walk in the park and enjoy the fresh air.\",\n",
    "]\n"
   ]
  },
  {
   "cell_type": "code",
   "execution_count": 47,
   "id": "6d039a99",
   "metadata": {},
   "outputs": [],
   "source": [
    "user_query = \"i am pakistani and i live in pakistan\"\n",
    "document = \"pakistan is a country for the pakistanis and for everyone\""
   ]
  },
  {
   "cell_type": "code",
   "execution_count": 48,
   "id": "c8f9c989",
   "metadata": {},
   "outputs": [],
   "source": [
    "from collections import Counter\n",
    "import math"
   ]
  },
  {
   "cell_type": "code",
   "execution_count": 49,
   "id": "7f70f2d2",
   "metadata": {},
   "outputs": [],
   "source": [
    "def cosine_simliarity(query, document):\n",
    "    # Tokenize the input strings and convert all tokens to lowercase\n",
    "    query_tokens = query.lower().split(\" \")\n",
    "    document_tokens = document.lower().split(\" \")\n",
    "    \n",
    "    # Create frequency counters for tokens in both query and document\n",
    "    query_counter = Counter(query_tokens)\n",
    "    document_counter = Counter(document_tokens)\n",
    "    \n",
    "    # Calculate the dot product of the token frequency vectors\n",
    "    # Only consider tokens that appear in both query and document\n",
    "    dot_product = sum(\n",
    "        query_counter[token] * document_counter[token]\n",
    "        for token in query_counter.keys() & document_counter.keys()\n",
    "    )\n",
    "    \n",
    "    # Calculate the magnitude (Euclidean norm) of each vector\n",
    "    query_magnitude = math.sqrt(\n",
    "        sum(query_counter[token] ** 2 for token in query_counter.keys())\n",
    "    )\n",
    "    document_magnitude = math.sqrt(\n",
    "        sum(document_counter[token] ** 2 for token in document_counter.keys())\n",
    "    )\n",
    "    \n",
    "    # Compute the cosine similarity using the dot product and magnitudes\n",
    "    similarity = dot_product / (query_magnitude * document_magnitude)\n",
    "    \n",
    "    # Return the similarity score (between 0 and 1)\n",
    "    return similarity\n"
   ]
  },
  {
   "cell_type": "code",
   "execution_count": 60,
   "id": "d489f45c",
   "metadata": {},
   "outputs": [],
   "source": [
    "def return_response(query, corpus):\n",
    "    similarities= []\n",
    "    for doc in corpus:\n",
    "        # print(doc)\n",
    "        similarity = cosine_simliarity(query, doc)\n",
    "        similarities.append(similarity)\n",
    "    \n",
    "    # print(similarities)\n",
    "    # print(similarities.index(max(similarities)))   \n",
    "    return corpus_of_documents[similarities.index(max(similarities))]"
   ]
  },
  {
   "cell_type": "code",
   "execution_count": 66,
   "id": "cb7a57f3",
   "metadata": {},
   "outputs": [],
   "source": [
    "user_input = \"i live fresh air\"\n",
    "relevant_document = return_response(user_input, corpus_of_documents)"
   ]
  },
  {
   "cell_type": "code",
   "execution_count": 71,
   "id": "0998d86c",
   "metadata": {},
   "outputs": [],
   "source": [
    "# install ollama model or any other model \n",
    "# i am using ollama model local for understanding purpose\n",
    "import requests\n",
    "import json"
   ]
  },
  {
   "cell_type": "code",
   "execution_count": null,
   "id": "c8b17a74",
   "metadata": {},
   "outputs": [
    {
     "ename": "NameError",
     "evalue": "name 'user_input' is not defined",
     "output_type": "error",
     "traceback": [
      "\u001b[31m---------------------------------------------------------------------------\u001b[39m",
      "\u001b[31mNameError\u001b[39m                                 Traceback (most recent call last)",
      "\u001b[36mCell\u001b[39m\u001b[36m \u001b[39m\u001b[32mIn[1]\u001b[39m\u001b[32m, line 16\u001b[39m\n\u001b[32m     11\u001b[39m url = \u001b[33m'\u001b[39m\u001b[33mhttp://localhost:11434/api/generate\u001b[39m\u001b[33m'\u001b[39m\n\u001b[32m     13\u001b[39m \u001b[38;5;66;03m# Prepare the data payload for the API request\u001b[39;00m\n\u001b[32m     14\u001b[39m data = {\n\u001b[32m     15\u001b[39m     \u001b[33m\"\u001b[39m\u001b[33mmodel\u001b[39m\u001b[33m\"\u001b[39m : \u001b[33m\"\u001b[39m\u001b[33mllama2\u001b[39m\u001b[33m\"\u001b[39m,  \u001b[38;5;66;03m# Specify the model to use\u001b[39;00m\n\u001b[32m---> \u001b[39m\u001b[32m16\u001b[39m     \u001b[33m\"\u001b[39m\u001b[33mprompt\u001b[39m\u001b[33m\"\u001b[39m : prompt.format(user_input = \u001b[43muser_input\u001b[49m, relevant_document = relevant_document)  \u001b[38;5;66;03m# Format the prompt with user input and relevant document\u001b[39;00m\n\u001b[32m     17\u001b[39m }\n\u001b[32m     19\u001b[39m \u001b[38;5;66;03m# Set the correct content type for the request header\u001b[39;00m\n\u001b[32m     20\u001b[39m headers = {\u001b[33m'\u001b[39m\u001b[33mContent-Type\u001b[39m\u001b[33m'\u001b[39m : \u001b[33m'\u001b[39m\u001b[33mapplication/json\u001b[39m\u001b[33m'\u001b[39m}\n",
      "\u001b[31mNameError\u001b[39m: name 'user_input' is not defined"
     ]
    }
   ],
   "source": [
    "# prompt for the model\n",
    "# This prompt instructs the language model to act as a recommendation bot.\n",
    "full_response = []\n",
    "prompt = \"\"\"\n",
    "You are a bot that makes recommendations for activities. You answer in very short sentences and do not\n",
    "This is the recommended activity: {relevant_document}\n",
    "The user input is: {user_input}\n",
    "Compile a recommendation to the user based on the recommended activity and the user input.\n",
    "\"\"\"\n",
    "\n",
    "# URL of the locally running Ollama model API\n",
    "url = 'http://localhost:11434/api/generate'\n",
    "\n",
    "# Prepare the data payload for the API request\n",
    "data = {\n",
    "    \"model\" : \"llama2\",  # Specify the model to use\n",
    "    \"prompt\" : prompt.format(user_input = user_input, relevant_document = relevant_document)  # Format the prompt with user input and relevant document\n",
    "}\n",
    "\n",
    "# Set the correct content type for the request header\n",
    "headers = {'Content-Type' : 'application/json'}\n",
    "\n",
    "# Send the POST request to the model API and stream the response\n",
    "response = requests.post(url, data = json.dumps(data), headers = headers, stream = True)\n",
    "\n",
    "try:\n",
    "    for line in response.iter_lines():\n",
    "        # filter out keep-alive new lines\n",
    "        if line:\n",
    "            decoded_line = json.loads(line.decode('utf-8'))\n",
    "            # print(decoded_line['response'])  # uncomment to results, token by token\n",
    "            full_response.append(decoded_line['response'])\n",
    "finally:\n",
    "    response.close()\n",
    "\n",
    "print(''.join(full_response))\n",
    "\n"
   ]
  },
  {
   "cell_type": "code",
   "execution_count": null,
   "id": "843ef50c",
   "metadata": {},
   "outputs": [],
   "source": []
  }
 ],
 "metadata": {
  "kernelspec": {
   "display_name": ".venv (3.12.3)",
   "language": "python",
   "name": "python3"
  },
  "language_info": {
   "codemirror_mode": {
    "name": "ipython",
    "version": 3
   },
   "file_extension": ".py",
   "mimetype": "text/x-python",
   "name": "python",
   "nbconvert_exporter": "python",
   "pygments_lexer": "ipython3",
   "version": "3.12.3"
  }
 },
 "nbformat": 4,
 "nbformat_minor": 5
}
